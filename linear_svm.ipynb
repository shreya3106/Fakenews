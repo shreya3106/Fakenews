{
 "cells": [
  {
   "cell_type": "code",
   "execution_count": null,
   "id": "2ba61552",
   "metadata": {
    "scrolled": true
   },
   "outputs": [],
   "source": [
    "import numpy as np\n",
    "import pandas as pd\n",
    "import matplotlib.pyplot as plt\n",
    "import seaborn as sns\n",
    "import re\n",
    "from nltk.corpus import stopwords\n",
    "from nltk.stem.porter import PorterStemmer\n",
    "from sklearn.feature_extraction.text import TfidfVectorizer\n",
    "from sklearn.model_selection import train_test_split\n"
   ]
  },
  {
   "cell_type": "code",
   "execution_count": null,
   "id": "5f903942",
   "metadata": {
    "scrolled": true
   },
   "outputs": [],
   "source": [
    "import nltk\n",
    "nltk.download('stopwords')"
   ]
  },
  {
   "cell_type": "code",
   "execution_count": null,
   "id": "95c7fe1e",
   "metadata": {},
   "outputs": [],
   "source": [
    "news_dataset = pd.read_csv('train.csv');"
   ]
  },
  {
   "cell_type": "code",
   "execution_count": null,
   "id": "43ca3be6",
   "metadata": {},
   "outputs": [],
   "source": [
    "news_dataset = news_dataset.fillna('')"
   ]
  },
  {
   "cell_type": "code",
   "execution_count": null,
   "id": "53e65556",
   "metadata": {},
   "outputs": [],
   "source": [
    "news_dataset['content'] = news_dataset['author'] + ' ' + news_dataset['title']"
   ]
  },
  {
   "cell_type": "code",
   "execution_count": null,
   "id": "fd3b554e",
   "metadata": {
    "scrolled": true
   },
   "outputs": [],
   "source": [
    "print(news_dataset['content'])"
   ]
  },
  {
   "cell_type": "code",
   "execution_count": null,
   "id": "44c09135",
   "metadata": {},
   "outputs": [],
   "source": [
    "news_dataset.isnull().sum()"
   ]
  },
  {
   "cell_type": "code",
   "execution_count": null,
   "id": "4e475b25",
   "metadata": {},
   "outputs": [],
   "source": [
    "#stemming\n",
    "port_stem = PorterStemmer()"
   ]
  },
  {
   "cell_type": "code",
   "execution_count": null,
   "id": "e56402ad",
   "metadata": {},
   "outputs": [],
   "source": [
    "def stemming(content):\n",
    "    stemmed_content = re.sub('[^a-zA-Z]', ' ', content)\n",
    "    stemmed_content = stemmed_content.lower()\n",
    "    stemmed_content = stemmed_content.split()\n",
    "    stemmed_content = [port_stem.stem(word) for word in stemmed_content if not word in stopwords.words('english')]\n",
    "    stemmed_content = ' '.join(stemmed_content)\n",
    "    return stemmed_content"
   ]
  },
  {
   "cell_type": "code",
   "execution_count": null,
   "id": "bc415190",
   "metadata": {},
   "outputs": [],
   "source": [
    "news_dataset['content'] = news_dataset['content'].apply(stemming)"
   ]
  },
  {
   "cell_type": "code",
   "execution_count": null,
   "id": "4b9d84c1",
   "metadata": {},
   "outputs": [],
   "source": [
    "print(news_dataset['content'])"
   ]
  },
  {
   "cell_type": "code",
   "execution_count": null,
   "id": "c60684f8",
   "metadata": {},
   "outputs": [],
   "source": [
    "X = news_dataset['content'].values\n",
    "Y = news_dataset['label'].values"
   ]
  },
  {
   "cell_type": "code",
   "execution_count": null,
   "id": "13ac2d46",
   "metadata": {},
   "outputs": [],
   "source": [
    "print(Y)"
   ]
  },
  {
   "cell_type": "code",
   "execution_count": null,
   "id": "ea5305e0",
   "metadata": {},
   "outputs": [],
   "source": [
    "vectorizer = TfidfVectorizer()\n",
    "vectorizer.fit(X)\n",
    "X = vectorizer.transform(X)"
   ]
  },
  {
   "cell_type": "code",
   "execution_count": null,
   "id": "0071477f",
   "metadata": {},
   "outputs": [],
   "source": [
    "X_train, X_test, Y_train, Y_test = train_test_split(X, Y, test_size=0.2, stratify=Y, random_state=2)"
   ]
  },
  {
   "cell_type": "code",
   "execution_count": null,
   "id": "a2a475b1",
   "metadata": {},
   "outputs": [],
   "source": [
    "#MODEL\n",
    "from sklearn.metrics import accuracy_score, f1_score, recall_score, precision_score, confusion_matrix\n",
    "from sklearn.metrics import classification_report"
   ]
  },
  {
   "cell_type": "code",
   "execution_count": null,
   "id": "a6542813",
   "metadata": {},
   "outputs": [],
   "source": [
    "#LINEAR SVM\n",
    "from sklearn.svm import SVC\n",
    "svm_model= SVC(C=0.5, kernel='linear')\n",
    "svm_model.fit(X_train, Y_train)"
   ]
  },
  {
   "cell_type": "code",
   "execution_count": null,
   "id": "0f6275b0",
   "metadata": {},
   "outputs": [],
   "source": [
    "#Accuracy score on training data\n",
    "X_train_prediction3= svm_model.predict(X_train)\n",
    "training_data_accuracy= accuracy_score(X_train_prediction3, Y_train)\n",
    "training_data_accuracy"
   ]
  },
  {
   "cell_type": "code",
   "execution_count": null,
   "id": "c5227078",
   "metadata": {},
   "outputs": [],
   "source": [
    "#Accuracy score on testing data\n",
    "X_test_prediction3= svm_model.predict(X_test)\n",
    "test_data_accuracy= accuracy_score(X_test_prediction3, Y_test)\n",
    "test_data_accuracy"
   ]
  },
  {
   "cell_type": "code",
   "execution_count": null,
   "id": "f75904f5",
   "metadata": {},
   "outputs": [],
   "source": [
    "Y_pred3= svm_model.predict(X_test)\n",
    "Y_pred3"
   ]
  },
  {
   "cell_type": "code",
   "execution_count": null,
   "id": "60037ed4",
   "metadata": {},
   "outputs": [],
   "source": [
    "#confusion matrix\n",
    "cm= confusion_matrix(Y_test, X_test_prediction3)\n",
    "cm"
   ]
  },
  {
   "cell_type": "code",
   "execution_count": null,
   "id": "0b30680d",
   "metadata": {},
   "outputs": [],
   "source": [
    "!pip install flask"
   ]
  },
  {
   "cell_type": "code",
   "execution_count": null,
   "id": "cfdfec4c",
   "metadata": {},
   "outputs": [],
   "source": [
    "################  web app    #####################"
   ]
  },
  {
   "cell_type": "code",
   "execution_count": null,
   "id": "dbda4a67",
   "metadata": {},
   "outputs": [],
   "source": [
    "# can be done python file"
   ]
  },
  {
   "cell_type": "code",
   "execution_count": null,
   "id": "a6f09510",
   "metadata": {},
   "outputs": [],
   "source": [
    "from flask import Flask, render_template, request, jsonify\n",
    "import nltk\n",
    "import pickle\n",
    "from nltk.corpus import stopwords\n",
    "import re\n",
    "from nltk.stem.porter import PorterStemmer"
   ]
  },
  {
   "cell_type": "code",
   "execution_count": null,
   "id": "2bd0f38d",
   "metadata": {},
   "outputs": [],
   "source": [
    "# save model \n",
    "filename='finalised_model.pkl'\n",
    "pickle.dump(svm_model, open(filename, 'wb'))"
   ]
  },
  {
   "cell_type": "code",
   "execution_count": null,
   "id": "9ec3bd1f",
   "metadata": {},
   "outputs": [],
   "source": [
    "# save vectorizer\n",
    "filename='vectorizer.pkl'\n",
    "pickle.dump(vectorizer, open(filename,'wb'))"
   ]
  },
  {
   "cell_type": "code",
   "execution_count": null,
   "id": "23333e96",
   "metadata": {},
   "outputs": [],
   "source": [
    "#app = Flask(__name__, template_folder='./frontend' )\n",
    "#ps = PorterStemmer()"
   ]
  },
  {
   "cell_type": "code",
   "execution_count": null,
   "id": "473d175d",
   "metadata": {},
   "outputs": [],
   "source": [
    "#model = pickle.load(open('finalised_model.pkl', 'rb'))\n",
    "#tfidfvect = pickle.load(open('vectorizer.pkl', 'rb'))"
   ]
  },
  {
   "cell_type": "code",
   "execution_count": null,
   "id": "300c8d54",
   "metadata": {},
   "outputs": [],
   "source": [
    "#def predict(text):\n",
    " #   review = re.sub('[^a-zA-Z]', ' ', text)\n",
    " #   review = review.lower()\n",
    " #    review = [ps.stem(word) for word in review if not word in stopwords.words('english')]\n",
    "  #  review = ' '.join(review)\n",
    "  #  review_vect = tfidfvect.transform([review])#.toarray()\n",
    " #   prediction = 'FAKE' if model.predict(review_vect) == 0 else 'REAL'\n",
    " #   return prediction"
   ]
  },
  {
   "cell_type": "code",
   "execution_count": null,
   "id": "36b78c7c",
   "metadata": {},
   "outputs": [],
   "source": [
    "# Build functionalities\n",
    "#@app.route('/', method=['GET'])\n",
    "#@app.route('/')\n",
    "#def home():\n",
    " #   return render_template('index.html')"
   ]
  },
  {
   "cell_type": "code",
   "execution_count": null,
   "id": "00523d8b",
   "metadata": {},
   "outputs": [],
   "source": [
    "#@app.route('/index', methods=['POST'])#ther was only -> /\n",
    "#def webapp():\n",
    "#    text = str(request.form['text'])\n",
    "#    printf(text)"
   ]
  },
  {
   "cell_type": "code",
   "execution_count": null,
   "id": "1a9f6d87",
   "metadata": {},
   "outputs": [],
   "source": [
    "#@app.route('/predict', methods=['GET','POST'])\n",
    "#def api():\n",
    "#    if request.method=\"POST\":\n",
    "#        text = request.args.get(\"text\")\n",
    "    #    text=str(request.form['text'])\n",
    "        #prediction=predict(text)\n",
    "     #   return render_template(\"index.html\", prediction_text=\"News headline is --> {}\".format(prediction))\n",
    "   # else:\n",
    "   #     return(\"index.html\")\n",
    "    #\n",
    "    #prediction = predict(text)\n",
    "    #return jsonify(prediction=prediction)"
   ]
  },
  {
   "cell_type": "code",
   "execution_count": null,
   "id": "f41bddab",
   "metadata": {
    "scrolled": true
   },
   "outputs": [],
   "source": [
    "#if __name__ == \"__main__\":\n",
    " #   app.run()"
   ]
  },
  {
   "cell_type": "code",
   "execution_count": null,
   "id": "cfd3e4ce",
   "metadata": {},
   "outputs": [],
   "source": []
  }
 ],
 "metadata": {
  "kernelspec": {
   "display_name": "Python 3 (ipykernel)",
   "language": "python",
   "name": "python3"
  },
  "language_info": {
   "codemirror_mode": {
    "name": "ipython",
    "version": 3
   },
   "file_extension": ".py",
   "mimetype": "text/x-python",
   "name": "python",
   "nbconvert_exporter": "python",
   "pygments_lexer": "ipython3",
   "version": "3.10.6"
  },
  "vscode": {
   "interpreter": {
    "hash": "062e9c96fbd75f066890cad56df2ea6a95362a0d7d46582632fb613cd2d20439"
   }
  }
 },
 "nbformat": 4,
 "nbformat_minor": 5
}
